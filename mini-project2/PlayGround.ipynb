{
 "cells": [
  {
   "cell_type": "code",
   "execution_count": null,
   "metadata": {},
   "outputs": [],
   "source": [
    "import pandas as pd\n",
    "import sqlite3\n",
    "\n",
    "conn = sqlite3.connect(\"normalized.db\")\n",
    "sql_statement = \"\"\" \n",
    "\n",
    "    SELECT c.FirstName || \".\" || c.LastName as Name, \n",
    "    ROUND(sum(p.ProductUnitPrice*o.QuantityOrdered),2) as Total \n",
    "    FROM OrderDetail o \n",
    "    JOIN Product p ON o.ProductID = p.ProductID \n",
    "    JOIN customer c ON o.CustomerID\n",
    "    WHERE name = '{}' GROUP BY name \"\"\".format('Alejandra Camino')\n",
    "\n",
    "df = pd.read_sql_query(sql_statement, conn)\n",
    "display(df)\n",
    "conn.close()"
   ]
  }
 ],
 "metadata": {
  "kernelspec": {
   "display_name": "base",
   "language": "python",
   "name": "python3"
  },
  "language_info": {
   "name": "python",
   "version": "3.9.13 (main, Aug 25 2022, 23:51:50) [MSC v.1916 64 bit (AMD64)]"
  },
  "orig_nbformat": 4,
  "vscode": {
   "interpreter": {
    "hash": "d47d9269cffa2cf13049e19e7e2c2cdbc3e0a106bf3d85d87066843337b02bbd"
   }
  }
 },
 "nbformat": 4,
 "nbformat_minor": 2
}
